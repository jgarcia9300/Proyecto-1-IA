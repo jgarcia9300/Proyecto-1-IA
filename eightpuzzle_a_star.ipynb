{
 "cells": [
  {
   "cell_type": "code",
   "execution_count": 23,
   "id": "43949fc5",
   "metadata": {},
   "outputs": [],
   "source": [
    "import itertools\n",
    "import heapq\n",
    "import time"
   ]
  },
  {
   "cell_type": "code",
   "execution_count": 24,
   "id": "e4e30499",
   "metadata": {},
   "outputs": [],
   "source": [
    "\"\"\"\n",
    " representacion de un nodo en el árbol de búsqueda A*\n",
    "\"\"\"\n",
    "class NodoRompecabezas:\n",
    "    def __init__(self, estado_tablero, nodo_padre=None, movimiento=None):\n",
    "        self.estado_tablero = estado_tablero          # estado actual del tablero\n",
    "        self.nodo_padre = nodo_padre                  # nodo desde el cual se llego a este estado\n",
    "        self.movimiento = movimiento                  # movimiento realizado para llegar aquí\n",
    "        self.g = nodo_padre.g + 1 if nodo_padre else 0  # costo desde el estado inicial\n",
    "\n",
    "    @property\n",
    "    def h(self):\n",
    "        \"\"\"estimacion del coste restante (distancia Manhattan)\"\"\"\n",
    "        return self.estado_tablero.manhattan\n",
    "\n",
    "    @property\n",
    "    def f(self):\n",
    "        \"\"\"funcion A*: f = g + h\"\"\"\n",
    "        return self.g + self.h\n",
    "\n",
    "    # metodos de comparación para usar en la cola de prioridad (heap)\n",
    "    def __lt__(self, otro):\n",
    "        return self.f < otro.f\n",
    "\n",
    "    def __eq__(self, otro):\n",
    "        return self.estado == otro.estado\n",
    "\n",
    "    def __hash__(self):\n",
    "        return hash(self.estado)\n",
    "\n",
    "    @property\n",
    "    def estado(self):\n",
    "        \"\"\"Representación del estado como tupla (para sets)\"\"\"\n",
    "        return tuple(itertools.chain(*self.estado_tablero.tablero))\n",
    "\n",
    "    @property\n",
    "    def camino(self):\n",
    "        \"\"\"reconstruye el camino desde el nodo \n",
    "        inicial hasta este nodo\"\"\"\n",
    "        nodo, ruta = self, []\n",
    "        while nodo:\n",
    "            ruta.append(nodo)\n",
    "            nodo = nodo.nodo_padre\n",
    "        return list(reversed(ruta))\n",
    "\n",
    "    @property\n",
    "    def resuelto(self):\n",
    "        \"\"\"indica si ya se llego al estado objetivo\"\"\"\n",
    "        return self.estado_tablero.resuelto"
   ]
  },
  {
   "cell_type": "code",
   "execution_count": 25,
   "id": "a424b36f",
   "metadata": {
    "lines_to_next_cell": 1
   },
   "outputs": [
    {
     "data": {
      "text/plain": [
       "'\\nUso de A* para resolver el puzzle\\n'"
      ]
     },
     "execution_count": 25,
     "metadata": {},
     "output_type": "execute_result"
    }
   ],
   "source": [
    "\"\"\"\n",
    "Uso de A* para resolver el puzzle\n",
    "\"\"\""
   ]
  },
  {
   "cell_type": "code",
   "execution_count": 26,
   "id": "3d73713c",
   "metadata": {},
   "outputs": [],
   "source": [
    "class AlgoritmoAEstrella:\n",
    "  \n",
    "    def __init__(self, estado_inicial):\n",
    "        self.estado_inicial = estado_inicial\n",
    "\n",
    "    def resolver(self):\n",
    "  \n",
    "        frontera = []  # nodos por explorar (ordenados por f = g + h)\n",
    "        heapq.heappush(frontera, (0, NodoRompecabezas(self.estado_inicial)))\n",
    "        cerrada = set()  # estados ya explorados\n",
    "\n",
    "        while frontera:\n",
    "            _, nodo_actual = heapq.heappop(frontera)\n",
    "\n",
    "            if nodo_actual.estado in cerrada:\n",
    "                continue\n",
    "            cerrada.add(nodo_actual.estado)\n",
    "\n",
    "            if nodo_actual.resuelto:\n",
    "                return nodo_actual.camino\n",
    "\n",
    "            # movimientos válidos\n",
    "            for funcion_movimiento, nombre_movimiento in nodo_actual.estado_tablero.movimientos_validos:\n",
    "                nodo_hijo = NodoRompecabezas(funcion_movimiento(), nodo_actual, nombre_movimiento)\n",
    "                if nodo_hijo.estado not in cerrada:\n",
    "                    heapq.heappush(frontera, (nodo_hijo.f, nodo_hijo))\n",
    "\n",
    "        return None  # en caso de no hallar solucion"
   ]
  },
  {
   "cell_type": "code",
   "execution_count": 27,
   "id": "3ee2a43a",
   "metadata": {},
   "outputs": [
    {
     "data": {
      "text/plain": [
       "'\\n# Clase que representa el tablero del rompecabezas\\n'"
      ]
     },
     "execution_count": 27,
     "metadata": {},
     "output_type": "execute_result"
    }
   ],
   "source": [
    "\"\"\"\n",
    "# Clase que representa el tablero del rompecabezas\n",
    "\"\"\""
   ]
  },
  {
   "cell_type": "code",
   "execution_count": 28,
   "id": "bc3fdbae",
   "metadata": {},
   "outputs": [],
   "source": [
    "class Rompecabezas:\n",
    "    def __init__(self, tablero):\n",
    "        self.tablero = tablero\n",
    "        self.ancho = len(tablero)\n",
    "\n",
    "    @property\n",
    "    def resuelto(self):\n",
    "        \"\"\"Verifica si el tablero está en el estado objetivo\"\"\"\n",
    "        N = self.ancho * self.ancho\n",
    "        return list(itertools.chain(*self.tablero)) == list(range(1, N)) + [0]\n",
    "\n",
    "    @property\n",
    "    def manhattan(self):\n",
    "        \"\"\"calcula la suma de distancias manhattan de todas las fichas\"\"\"\n",
    "        distancia = 0\n",
    "        for i in range(self.ancho):\n",
    "            for j in range(self.ancho):\n",
    "                valor = self.tablero[i][j]\n",
    "                if valor != 0:  # No contar el espacio vacío\n",
    "                    x_obj, y_obj = divmod(valor - 1, self.ancho)\n",
    "                    distancia += abs(x_obj - i) + abs(y_obj - j)\n",
    "        return distancia\n",
    "\n",
    "    @property\n",
    "    def movimientos_validos(self):\n",
    "        \"\"\"geenra todos los movimientos posibles desde el estado actual\"\"\"\n",
    "        def crear_movimiento(desde, hacia):\n",
    "            return lambda: self.aplicar_movimiento(desde, hacia)\n",
    "\n",
    "        movimientos = []\n",
    "        for i, j in itertools.product(range(self.ancho), range(self.ancho)):\n",
    "            # direcciones posibles: derecha, izquierda, abajo, arriba\n",
    "            direcciones = {\n",
    "                'DERECHA': (i, j-1),\n",
    "                'IZQUIERDA': (i, j+1),\n",
    "                'ABAJO': (i-1, j),\n",
    "                'ARRIBA': (i+1, j)\n",
    "            }\n",
    "            for nombre_movimiento, (fila, col) in direcciones.items():\n",
    "                if (0 <= fila < self.ancho and 0 <= col < self.ancho and\n",
    "                        self.tablero[fila][col] == 0):  # solo se puede mover hacia el espacio vacío\n",
    "                    movimientos.append((crear_movimiento((i, j), (fila, col)), nombre_movimiento))\n",
    "        return movimientos\n",
    "\n",
    "    def aplicar_movimiento(self, desde, hacia):\n",
    "        \"\"\"devuelve un nuevo tablero con el movimiento aplicado (no modifica el original)\"\"\"\n",
    "        nuevo_tablero = [fila[:] for fila in self.tablero]  # copia profunda\n",
    "        i, j = desde\n",
    "        fila, col = hacia\n",
    "        # intercambia la ficha con el espacio vacio\n",
    "        nuevo_tablero[i][j], nuevo_tablero[fila][col] = nuevo_tablero[fila][col], nuevo_tablero[i][j]\n",
    "        return Rompecabezas(nuevo_tablero)\n",
    "\n",
    "    def imprimir(self):\n",
    "        \"\"\"imprime el tablero\"\"\"\n",
    "        for fila in self.tablero:\n",
    "            print(fila)\n",
    "        print()"
   ]
  },
  {
   "cell_type": "code",
   "execution_count": null,
   "id": "4bbd25ab",
   "metadata": {},
   "outputs": [],
   "source": []
  },
  {
   "cell_type": "code",
   "execution_count": 29,
   "id": "1808ca66",
   "metadata": {},
   "outputs": [
    {
     "data": {
      "text/plain": [
       "'\\nEJEMPLO\\n'"
      ]
     },
     "execution_count": 29,
     "metadata": {},
     "output_type": "execute_result"
    }
   ],
   "source": [
    "\"\"\"\n",
    "EJEMPLO\n",
    "\"\"\""
   ]
  },
  {
   "cell_type": "code",
   "execution_count": 30,
   "id": "c3644748",
   "metadata": {},
   "outputs": [],
   "source": [
    "estado_inicial = [[5, 6, 8], [0, 4, 7], [1, 3, 2]]  # 0 representa la casilla vacia"
   ]
  },
  {
   "cell_type": "code",
   "execution_count": 31,
   "id": "16ed0317",
   "metadata": {},
   "outputs": [],
   "source": [
    "rompecabezas = Rompecabezas(estado_inicial)\n",
    "solver = AlgoritmoAEstrella(rompecabezas)"
   ]
  },
  {
   "cell_type": "code",
   "execution_count": 32,
   "id": "d26a77b3",
   "metadata": {},
   "outputs": [],
   "source": [
    "# medicion tiempos\n",
    "tiempo_inicio = time.perf_counter()\n",
    "camino_solucion = solver.resolver()\n",
    "tiempo_fin = time.perf_counter()"
   ]
  },
  {
   "cell_type": "code",
   "execution_count": 33,
   "id": "66317d19",
   "metadata": {},
   "outputs": [
    {
     "name": "stdout",
     "output_type": "stream",
     "text": [
      "=== SOLUCION ===\n",
      "\n",
      "Estado inicial:\n",
      "[5, 6, 8]\n",
      "[0, 4, 7]\n",
      "[1, 3, 2]\n",
      "\n",
      "Movimiento: ABAJO\n",
      "[5, 6, 8]\n",
      "[1, 4, 7]\n",
      "[0, 3, 2]\n",
      "\n",
      "Movimiento: DERECHA\n",
      "[5, 6, 8]\n",
      "[1, 4, 7]\n",
      "[3, 0, 2]\n",
      "\n",
      "Movimiento: ARRIBA\n",
      "[5, 6, 8]\n",
      "[1, 0, 7]\n",
      "[3, 4, 2]\n",
      "\n",
      "Movimiento: IZQUIERDA\n",
      "[5, 6, 8]\n",
      "[0, 1, 7]\n",
      "[3, 4, 2]\n",
      "\n",
      "Movimiento: ABAJO\n",
      "[5, 6, 8]\n",
      "[3, 1, 7]\n",
      "[0, 4, 2]\n",
      "\n",
      "Movimiento: DERECHA\n",
      "[5, 6, 8]\n",
      "[3, 1, 7]\n",
      "[4, 0, 2]\n",
      "\n",
      "Movimiento: DERECHA\n",
      "[5, 6, 8]\n",
      "[3, 1, 7]\n",
      "[4, 2, 0]\n",
      "\n",
      "Movimiento: ARRIBA\n",
      "[5, 6, 8]\n",
      "[3, 1, 0]\n",
      "[4, 2, 7]\n",
      "\n",
      "Movimiento: ARRIBA\n",
      "[5, 6, 0]\n",
      "[3, 1, 8]\n",
      "[4, 2, 7]\n",
      "\n",
      "Movimiento: IZQUIERDA\n",
      "[5, 0, 6]\n",
      "[3, 1, 8]\n",
      "[4, 2, 7]\n",
      "\n",
      "Movimiento: ABAJO\n",
      "[5, 1, 6]\n",
      "[3, 0, 8]\n",
      "[4, 2, 7]\n",
      "\n",
      "Movimiento: IZQUIERDA\n",
      "[5, 1, 6]\n",
      "[0, 3, 8]\n",
      "[4, 2, 7]\n",
      "\n",
      "Movimiento: ARRIBA\n",
      "[0, 1, 6]\n",
      "[5, 3, 8]\n",
      "[4, 2, 7]\n",
      "\n",
      "Movimiento: DERECHA\n",
      "[1, 0, 6]\n",
      "[5, 3, 8]\n",
      "[4, 2, 7]\n",
      "\n",
      "Movimiento: ABAJO\n",
      "[1, 3, 6]\n",
      "[5, 0, 8]\n",
      "[4, 2, 7]\n",
      "\n",
      "Movimiento: ABAJO\n",
      "[1, 3, 6]\n",
      "[5, 2, 8]\n",
      "[4, 0, 7]\n",
      "\n",
      "Movimiento: DERECHA\n",
      "[1, 3, 6]\n",
      "[5, 2, 8]\n",
      "[4, 7, 0]\n",
      "\n",
      "Movimiento: ARRIBA\n",
      "[1, 3, 6]\n",
      "[5, 2, 0]\n",
      "[4, 7, 8]\n",
      "\n",
      "Movimiento: ARRIBA\n",
      "[1, 3, 0]\n",
      "[5, 2, 6]\n",
      "[4, 7, 8]\n",
      "\n",
      "Movimiento: IZQUIERDA\n",
      "[1, 0, 3]\n",
      "[5, 2, 6]\n",
      "[4, 7, 8]\n",
      "\n",
      "Movimiento: ABAJO\n",
      "[1, 2, 3]\n",
      "[5, 0, 6]\n",
      "[4, 7, 8]\n",
      "\n",
      "Movimiento: IZQUIERDA\n",
      "[1, 2, 3]\n",
      "[0, 5, 6]\n",
      "[4, 7, 8]\n",
      "\n",
      "Movimiento: ABAJO\n",
      "[1, 2, 3]\n",
      "[4, 5, 6]\n",
      "[0, 7, 8]\n",
      "\n",
      "Movimiento: DERECHA\n",
      "[1, 2, 3]\n",
      "[4, 5, 6]\n",
      "[7, 0, 8]\n",
      "\n",
      "Movimiento: DERECHA\n",
      "[1, 2, 3]\n",
      "[4, 5, 6]\n",
      "[7, 8, 0]\n",
      "\n"
     ]
    }
   ],
   "source": [
    "# mostrar resultados\n",
    "pasos = 0\n",
    "print(\"=== SOLUCION ===\\n\")\n",
    "for nodo in camino_solucion:\n",
    "    if nodo.movimiento:\n",
    "        print(f\"Movimiento: {nodo.movimiento}\")\n",
    "    else:\n",
    "        print(\"Estado inicial:\")\n",
    "    nodo.estado_tablero.imprimir()\n",
    "    pasos += 1"
   ]
  },
  {
   "cell_type": "code",
   "execution_count": 34,
   "id": "f9e402f1",
   "metadata": {},
   "outputs": [
    {
     "name": "stdout",
     "output_type": "stream",
     "text": [
      "Total de pasos: 26\n",
      "Tiempo transcurrido: 0.1564 segundos\n",
      "Distancia Manhattan todas las casillas: 19\n"
     ]
    }
   ],
   "source": [
    "print(f\"Total de pasos: {pasos}\")\n",
    "print(f\"Tiempo transcurrido: {round(tiempo_fin - tiempo_inicio, 4)} segundos\")\n",
    "print(\"Distancia Manhattan todas las casillas:\", rompecabezas.manhattan)"
   ]
  }
 ],
 "metadata": {
  "jupytext": {
   "cell_metadata_filter": "-all",
   "main_language": "python",
   "notebook_metadata_filter": "-all"
  },
  "kernelspec": {
   "display_name": "Python 3",
   "language": "python",
   "name": "python3"
  },
  "language_info": {
   "codemirror_mode": {
    "name": "ipython",
    "version": 3
   },
   "file_extension": ".py",
   "mimetype": "text/x-python",
   "name": "python",
   "nbconvert_exporter": "python",
   "pygments_lexer": "ipython3",
   "version": "3.12.3"
  }
 },
 "nbformat": 4,
 "nbformat_minor": 5
}
